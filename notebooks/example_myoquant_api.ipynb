{
 "cells": [
  {
   "cell_type": "code",
   "execution_count": null,
   "metadata": {},
   "outputs": [],
   "source": [
    "import os\n",
    "import urllib.request\n",
    "from os import path\n",
    "from pathlib import Path\n",
    "\n",
    "import numpy as np\n",
    "from PIL import Image\n",
    "\n",
    "from myoquant.common_func import (\n",
    "    load_cellpose,\n",
    "    load_sdh_model,\n",
    "    load_stardist,\n",
    "    run_cellpose,\n",
    "    run_stardist,\n",
    ")\n",
    "from myoquant.HE_analysis import run_he_analysis\n",
    "from myoquant.SDH_analysis import run_sdh_analysis\n",
    "\n",
    "try:\n",
    "    from imageio.v2 import imread\n",
    "except:\n",
    "    from imageio import imread"
   ]
  },
  {
   "cell_type": "code",
   "execution_count": null,
   "metadata": {},
   "outputs": [],
   "source": [
    "# ANALYSE SDH\n",
    "\n",
    "# Importer l'image et dossier de sauvegarde\n",
    "image_path = \"LE CHEMIN VERS L'IMAGE SDH A ANALYSER\"\n",
    "output_path = image_path.parents[0]\n",
    "Path(output_path).mkdir(parents=True, exist_ok=True)\n",
    "\n",
    "# Télécharger le modèle SDH\n",
    "model_path_abs = Path(os.path.abspath(__file__)).parents[0] / \"model.h5\"\n",
    "if not path.exists(model_path_abs):\n",
    "    urllib.request.urlretrieve(\n",
    "        \"https://huggingface.co/corentinm7/MyoQuant-SDH-Model/resolve/main/model.h5\",\n",
    "        model_path_abs,\n",
    "    )\n",
    "model_path = model_path_abs\n",
    "\n",
    "# Charger Cellpose\n",
    "model_cellpose = load_cellpose()\n",
    "# Charger l'image\n",
    "image_ndarray_sdh = imread(image_path)\n",
    "\n",
    "# Faire tourner CellPose sur l'image & sauvegarder\n",
    "mask_cellpose = run_cellpose(image_ndarray_sdh, model_cellpose)\n",
    "mask_cellpose = mask_cellpose.astype(np.uint16)\n",
    "cellpose_mask_filename = image_path.stem + \"_cellpose_mask.tiff\"\n",
    "Image.fromarray(mask_cellpose).save(output_path / cellpose_mask_filename)\n",
    "\n",
    "# Faire tourner le modèle SDH sur l'image et récupérer le tableau de sommaire (result_df)\n",
    "model_SDH = load_sdh_model(model_path)\n",
    "result_df, full_label_map = run_sdh_analysis(\n",
    "    image_ndarray_sdh, model_SDH, mask_cellpose\n",
    ")\n",
    "csv_name = image_path.stem + \"_results.csv\"\n",
    "result_df.to_csv(\n",
    "    output_path / csv_name,\n",
    "    index=False,\n",
    ")\n",
    "label_map_name = image_path.stem + \"_label_map.tiff\"\n",
    "Image.fromarray(full_label_map).save(output_path / label_map_name)"
   ]
  },
  {
   "cell_type": "code",
   "execution_count": null,
   "metadata": {},
   "outputs": [],
   "source": [
    "# ANALYSE HE\n",
    "\n",
    "# Importer l'image et dossier de sauvegarde\n",
    "image_path = \"LE CHEMIN VERS L'IMAGE HE A ANALYSER\"\n",
    "output_path = image_path.parents[0]\n",
    "Path(output_path).mkdir(parents=True, exist_ok=True)\n",
    "\n",
    "# Charger les modèles CellPose et Stardist\n",
    "model_cellpose = load_cellpose()\n",
    "model_stardist = load_stardist()\n",
    "# Charger l'image\n",
    "image_ndarray = imread(image_path)\n",
    "# Faire tourner Cellpose (fibres) puis sauvegarder l'image\n",
    "mask_cellpose = run_cellpose(image_ndarray, model_cellpose)\n",
    "mask_cellpose = mask_cellpose.astype(np.uint16)\n",
    "cellpose_mask_filename = image_path.stem + \"_cellpose_mask.tiff\"\n",
    "Image.fromarray(mask_cellpose).save(output_path / cellpose_mask_filename)\n",
    "# Faire tourner Stardist (noyaux) puis sauvegarder l'image\n",
    "mask_stardist = run_stardist(image_ndarray, model_stardist)\n",
    "mask_stardist = mask_stardist.astype(np.uint16)\n",
    "stardist_mask_filename = image_path.stem + \"_stardist_mask.tiff\"\n",
    "Image.fromarray(mask_stardist).save(output_path / stardist_mask_filename)\n",
    "# Analyser la position des noyaux et fibres et sauvegarder le tableau de sommaire (result_df)\n",
    "result_df, full_label_map = run_he_analysis(image_ndarray, mask_cellpose, mask_stardist)\n",
    "csv_name = image_path.stem + \"_results.csv\"\n",
    "result_df.to_csv(\n",
    "    output_path / csv_name,\n",
    "    index=False,\n",
    ")\n",
    "label_map_name = image_path.stem + \"_label_map.tiff\"\n",
    "Image.fromarray(full_label_map).save(output_path / label_map_name)"
   ]
  }
 ],
 "metadata": {
  "kernelspec": {
   "display_name": "Python 3.9.12 ('myoquant-WpXbYFOG-py3.9')",
   "language": "python",
   "name": "python3"
  },
  "language_info": {
   "name": "python",
   "version": "3.9.12"
  },
  "orig_nbformat": 4,
  "vscode": {
   "interpreter": {
    "hash": "d376be9f186256918b4977b6bd310794ac5a9b1babe0c9318e787478ad5da552"
   }
  }
 },
 "nbformat": 4,
 "nbformat_minor": 2
}
