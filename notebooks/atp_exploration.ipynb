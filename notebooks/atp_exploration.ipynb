{
 "cells": [
  {
   "cell_type": "code",
   "execution_count": null,
   "metadata": {},
   "outputs": [],
   "source": [
    "import pandas as pd\n",
    "\n",
    "df = pd.read_csv('../data/muscle_atlas/muscle_atlas_2_7_filt_triple_full.csv')\n",
    "df.head()"
   ]
  },
  {
   "cell_type": "code",
   "execution_count": null,
   "metadata": {},
   "outputs": [],
   "source": [
    "IMAGE_INDEX = 189\n",
    "# show the first image in the list using the image name\n",
    "from IPython.display import Image\n",
    "Image(filename='../sample_img/sample_atp.jpg')"
   ]
  },
  {
   "cell_type": "code",
   "execution_count": null,
   "metadata": {},
   "outputs": [],
   "source": [
    "from myoquant.src.common_func import is_gpu_availiable,load_cellpose,run_cellpose\n",
    "import matplotlib.pyplot as plt\n",
    "try:\n",
    "    from imageio.v2 import imread\n",
    "except ImportError:\n",
    "    from imageio import imread\n",
    "\n",
    "image_array = imread('../sample_img/sample_atp.jpg')\n",
    "model_cellpose = load_cellpose()\n",
    "mask_cellpose = run_cellpose(image_array, model_cellpose)\n",
    "plt.imshow(mask_cellpose)"
   ]
  },
  {
   "cell_type": "code",
   "execution_count": null,
   "metadata": {},
   "outputs": [],
   "source": [
    "from skimage.measure import regionprops_table\n",
    "\n",
    "plt.imshow(mask_cellpose)\n",
    "props_cellpose = regionprops_table(\n",
    "    mask_cellpose,\n",
    "    properties=[\n",
    "        \"label\",\n",
    "        \"area\",\n",
    "        \"centroid\",\n",
    "        \"eccentricity\",\n",
    "        \"bbox\",\n",
    "        \"image\",\n",
    "        \"perimeter\",\n",
    "        \"feret_diameter_max\",\n",
    "    ],\n",
    ")\n",
    "df_cellpose = pd.DataFrame(props_cellpose)\n",
    "df_cellpose.head()"
   ]
  },
  {
   "cell_type": "code",
   "execution_count": null,
   "metadata": {},
   "outputs": [],
   "source": [
    "import numpy as np\n",
    "all_cell_median_intensity = []\n",
    "for index in range(len(df_cellpose)):\n",
    "    single_cell_img = image_array[\n",
    "        df_cellpose.iloc[index, 5] : df_cellpose.iloc[index, 7],\n",
    "        df_cellpose.iloc[index, 6] : df_cellpose.iloc[index, 8],\n",
    "    ].copy()\n",
    "\n",
    "    single_cell_mask = df_cellpose.iloc[index, 9].copy()\n",
    "    single_cell_img[~single_cell_mask] = 0\n",
    "    # Calculate median pixel intensity of the cell but ignore 0 values\n",
    "    single_cell_median_intensity = np.median(single_cell_img[single_cell_img > 0])\n",
    "    all_cell_median_intensity.append(single_cell_median_intensity)\n"
   ]
  },
  {
   "cell_type": "code",
   "execution_count": null,
   "metadata": {},
   "outputs": [],
   "source": [
    "# Histogram plot of the median pixel intensity of all cells\n",
    "plt.hist(all_cell_median_intensity, bins=255, density=True, alpha=0.5)\n",
    "plt.plot(xs,density(xs))\n",
    "plt.xlim(50,220)\n",
    "plt.show()"
   ]
  },
  {
   "cell_type": "code",
   "execution_count": null,
   "metadata": {},
   "outputs": [],
   "source": [
    "from scipy.stats import gaussian_kde\n",
    "\n",
    "# Build a \"density\" function based on the dataset\n",
    "# When you give a value from the X axis to this function, it returns the according value on the Y axis\n",
    "density = gaussian_kde(all_cell_median_intensity)\n",
    "density.covariance_factor = lambda : .05\n",
    "density._compute_covariance()\n",
    "\n",
    "# Create a vector of 256 values going from 0 to 256:\n",
    "xs = np.linspace(0, 255, 256)\n",
    "desnity_xs_values = density(xs)\n",
    "# Set the figure size\n",
    "plt.figure(figsize=(8, 4))\n",
    "\n",
    "# Make the chart\n",
    "# We're actually building a line chart where x values are set all along the axis and y value are\n",
    "# the corresponding values from the density function\n",
    "\n",
    "plt.plot(xs,density(xs))\n",
    "plt.xlim(50,220)\n",
    "plt.show()"
   ]
  },
  {
   "cell_type": "code",
   "execution_count": null,
   "metadata": {},
   "outputs": [],
   "source": []
  },
  {
   "cell_type": "code",
   "execution_count": null,
   "metadata": {},
   "outputs": [],
   "source": [
    "# from sklearn.cluster import KMeans\n",
    "# import numpy as np\n",
    "\n",
    "# all_cell_median_intensity = np.array(all_cell_median_intensity)\n",
    "\n",
    "# # fit the k-means model to the data\n",
    "# kmeans = KMeans(n_clusters=2).fit(all_cell_median_intensity.reshape(-1, 1))\n",
    "\n",
    "# # get the threshold point between the two clusters\n",
    "# threshold = kmeans.cluster_centers_[0] if kmeans.cluster_centers_[0] < kmeans.cluster_centers_[1] else kmeans.cluster_centers_[1]\n"
   ]
  },
  {
   "cell_type": "code",
   "execution_count": null,
   "metadata": {},
   "outputs": [],
   "source": [
    "print(len(density(xs)))\n",
    "print(len(all_cell_median_intensity))"
   ]
  },
  {
   "cell_type": "code",
   "execution_count": null,
   "metadata": {},
   "outputs": [],
   "source": [
    "from sklearn.mixture import GaussianMixture\n",
    "\n",
    "# Fit the GMM\n",
    "\n",
    "gmm = GaussianMixture(n_components=2).fit(np.array(all_cell_median_intensity).reshape(-1, 1))\n",
    "\n",
    "# Find the x values of the two peaks\n",
    "peaks_x = gmm.means_.flatten()\n",
    "\n",
    "print('The x values of the two peaks are:', peaks_x)"
   ]
  },
  {
   "cell_type": "code",
   "execution_count": null,
   "metadata": {},
   "outputs": [],
   "source": [
    "from scipy.stats import norm\n",
    "\n",
    "sorted_peaks = np.sort(peaks_x)\n",
    "# Find the minimum point between the two peaks\n",
    "min_index = np.argmin(density(xs)[(xs > sorted_peaks[0]) & (xs < sorted_peaks[1])])\n",
    "threshold = sorted_peaks[0]+xs[min_index]\n",
    "print(threshold)\n",
    "# Plot the data\n",
    "plt.hist(all_cell_median_intensity, bins=255, density=True, alpha=0.5, label='Histogram')\n",
    "plt.plot(xs,density(xs), label='Density', linewidth=3)\n",
    "plt.xlim(50,220)\n",
    "plt.axvline(threshold, color='r', label='Threshold')\n",
    "plt.legend()\n",
    "plt.show()"
   ]
  },
  {
   "cell_type": "code",
   "execution_count": null,
   "metadata": {},
   "outputs": [],
   "source": [
    "df_cellpose[\"cell_intensity\"] = all_cell_median_intensity\n",
    "df_cellpose[\"muscle_cell_type\"] = df_cellpose[\"cell_intensity\"].apply(\n",
    "    lambda x: 1 if x > threshold else 2\n",
    ")\n",
    "df_cellpose.head()"
   ]
  },
  {
   "cell_type": "code",
   "execution_count": null,
   "metadata": {},
   "outputs": [],
   "source": [
    "df_cellpose[\"muscle_cell_type\"].value_counts(normalize=True)"
   ]
  },
  {
   "cell_type": "code",
   "execution_count": null,
   "metadata": {},
   "outputs": [],
   "source": [
    "label_map = np.zeros(\n",
    "    (image_array.shape[0], image_array.shape[1]), dtype=np.uint16\n",
    ")\n",
    "# for index in track(range(len(df_cellpose)), description=\"Painting cells\"):\n",
    "for index in range(len(df_cellpose)):\n",
    "    single_cell_mask = df_cellpose.iloc[index, 9].copy()\n",
    "    if df_cellpose[\"muscle_cell_type\"][index] == 2:\n",
    "        label_map[\n",
    "            df_cellpose.iloc[index, 5] : df_cellpose.iloc[index, 7],\n",
    "            df_cellpose.iloc[index, 6] : df_cellpose.iloc[index, 8],\n",
    "        ][single_cell_mask] = 1\n",
    "    elif df_cellpose[\"muscle_cell_type\"][index] == 1:\n",
    "        label_map[\n",
    "            df_cellpose.iloc[index, 5] : df_cellpose.iloc[index, 7],\n",
    "            df_cellpose.iloc[index, 6] : df_cellpose.iloc[index, 8],\n",
    "        ][single_cell_mask] = 2"
   ]
  },
  {
   "cell_type": "code",
   "execution_count": null,
   "metadata": {},
   "outputs": [],
   "source": [
    "%config InlineBackend.figure_format = 'retina'\n",
    "from myoquant.src.common_func import label2rgb, blend_image_with_label\n",
    "labelRGB_map = label2rgb(image_array, label_map)\n",
    "overlay_img = blend_image_with_label(image_array, labelRGB_map)\n",
    "\n",
    "plt.figure(figsize=(10,20))\n",
    "\n",
    "f, axarr = plt.subplots(1,2) \n",
    "axarr[0].imshow(image_array)\n",
    "axarr[1].imshow(overlay_img)\n",
    "plt.tight_layout()\n",
    "plt.show()"
   ]
  }
 ],
 "metadata": {
  "kernelspec": {
   "display_name": ".venv",
   "language": "python",
   "name": "python3"
  },
  "language_info": {
   "codemirror_mode": {
    "name": "ipython",
    "version": 3
   },
   "file_extension": ".py",
   "mimetype": "text/x-python",
   "name": "python",
   "nbconvert_exporter": "python",
   "pygments_lexer": "ipython3",
   "version": "3.8.16"
  },
  "orig_nbformat": 4,
  "vscode": {
   "interpreter": {
    "hash": "da16f84656d11a3c096dd3524a83da95908ee8e4fba887e4173f286cf5f829c6"
   }
  }
 },
 "nbformat": 4,
 "nbformat_minor": 2
}
