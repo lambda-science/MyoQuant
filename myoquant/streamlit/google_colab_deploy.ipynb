{
 "cells": [
  {
   "cell_type": "code",
   "execution_count": null,
   "metadata": {},
   "outputs": [],
   "source": [
    "!pip install -q streamlit\n",
    "!pip install -q pyngrok\n",
    "!pip install -q cellpose\n",
    "!pip install -q stardist\n",
    "!pip install -q imageio"
   ]
  },
  {
   "cell_type": "code",
   "execution_count": null,
   "metadata": {},
   "outputs": [],
   "source": [
    "from pyngrok import ngrok \n",
    "public_url = ngrok.connect(port='8501')\n",
    "# public_url"
   ]
  },
  {
   "cell_type": "code",
   "execution_count": null,
   "metadata": {},
   "outputs": [],
   "source": [
    "!git clone https://github.com/lambda-science/MyoQuant.git app\n",
    "!wget https://huggingface.co/corentinm7/MyoQuant-SDH-Model/resolve/main/model.h5"
   ]
  },
  {
   "cell_type": "code",
   "execution_count": null,
   "metadata": {},
   "outputs": [],
   "source": "!streamlit run /content/myoquant/streamlit/run.py & npx localtunnel --port 8501"
  }
 ],
 "metadata": {
  "kernelspec": {
   "display_name": "Python 3.8.10 64-bit",
   "language": "python",
   "name": "python3"
  },
  "language_info": {
   "name": "python",
   "version": "3.8.10"
  },
  "orig_nbformat": 4,
  "vscode": {
   "interpreter": {
    "hash": "31f2aee4e71d21fbe5cf8b01ff0e069b9275f58929596ceb00d14d90e3e16cd6"
   }
  }
 },
 "nbformat": 4,
 "nbformat_minor": 2
}
